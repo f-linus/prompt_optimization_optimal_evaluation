{
 "cells": [
  {
   "cell_type": "code",
   "execution_count": 6,
   "metadata": {},
   "outputs": [],
   "source": [
    "import logging\n",
    "import random\n",
    "from tqdm import tqdm\n",
    "import os\n",
    "import asyncio\n",
    "from dotenv import load_dotenv\n",
    "\n",
    "if \"dir_changed\" not in locals():\n",
    "    os.chdir(\"..\")\n",
    "    loaded = load_dotenv(override=True)\n",
    "    dir_changed = True"
   ]
  },
  {
   "cell_type": "code",
   "execution_count": 7,
   "metadata": {},
   "outputs": [],
   "source": [
    "from prompt_optimization.operators.mutation import Mutation\n",
    "from prompt_optimization.utils.data import load_summeval_jsonl\n",
    "from prompt_optimization.prompt_eval.exact_match_evaluator import (\n",
    "    ExactMatchEvaluatorConfig,\n",
    "    ExactMatchEvaluator,\n",
    ")\n",
    "from prompt_optimization.utils.prompt import prompt_set_union\n",
    "\n",
    "from prompt_optimization.types.prompt import Prompt\n",
    "from prompt_optimization.utils.data import (\n",
    "    load_rewardbench_references,\n",
    "    CHAT_SUBSETS,\n",
    "    CHAT_HARD_SUBSETS,\n",
    "    SAFETY_SUBSETS,\n",
    "    REASONING_SUBSETS,\n",
    ")\n",
    "from prompt_optimization.prompt_eval.dict_similarity_evaluator2 import (\n",
    "    DictSimilarityEvaluator2,\n",
    "    DictSimilarityEvaluator2Config,\n",
    ")\n",
    "from prompt_optimization.llm.open_ai_compliant_llm_engine import (\n",
    "    OpenAICompliantLLMEngine,\n",
    ")"
   ]
  },
  {
   "cell_type": "code",
   "execution_count": 8,
   "metadata": {},
   "outputs": [],
   "source": [
    "references = load_summeval_jsonl(\"data/summeval.jsonl\")\n",
    "\n",
    "random.seed(123)\n",
    "references_shuffled = random.sample(references, len(references))\n",
    "\n",
    "se_train = references_shuffled[:25]\n",
    "se_test = references_shuffled[50:150]"
   ]
  },
  {
   "cell_type": "code",
   "execution_count": 9,
   "metadata": {},
   "outputs": [],
   "source": [
    "training_examples_per_subset = 1\n",
    "validations_per_subset = 8\n",
    "\n",
    "subsets_map = {\n",
    "    \"chat\": CHAT_SUBSETS,\n",
    "    \"chat_hard\": CHAT_HARD_SUBSETS,\n",
    "    \"safety\": SAFETY_SUBSETS,\n",
    "    \"reasoning\": REASONING_SUBSETS,\n",
    "}\n",
    "\n",
    "subsets_all = [subset for subsets in subsets_map.values() for subset in subsets]\n",
    "\n",
    "subset_data = {subset: load_rewardbench_references([subset]) for subset in subsets_all}\n",
    "\n",
    "rb_train = []\n",
    "for subset in subsets_all:\n",
    "    rb_train.extend(subset_data[subset][:training_examples_per_subset])\n",
    "\n",
    "rb_test = []\n",
    "for category, subsets in subsets_map.items():\n",
    "    for subset in subsets:\n",
    "        rb_test.extend(\n",
    "            subset_data[subset][\n",
    "                training_examples_per_subset : training_examples_per_subset\n",
    "                + validations_per_subset\n",
    "            ]\n",
    "        )\n",
    "\n",
    "# shuffle rb_train\n",
    "random.seed(123)\n",
    "rb_train = random.sample(rb_train, len(rb_train))"
   ]
  },
  {
   "cell_type": "code",
   "execution_count": 10,
   "metadata": {},
   "outputs": [],
   "source": [
    "api_keys = [\n",
    "    os.environ[\"DEEPINFRA_API_KEY_A1\"],\n",
    "    os.environ[\"DEEPINFRA_API_KEY_A2\"],\n",
    "    os.environ[\"DEEPINFRA_API_KEY_A3\"],\n",
    "    os.environ[\"DEEPINFRA_API_KEY_A4\"],\n",
    "]\n",
    "llama31_70b = OpenAICompliantLLMEngine(\n",
    "    base_url=os.environ[\"DEEPINFRA_BASE_URL\"],\n",
    "    api_keys=api_keys,\n",
    "    model=\"meta-llama/Meta-Llama-3.1-70B-Instruct\",\n",
    ")\n",
    "llama31_70b_eval = OpenAICompliantLLMEngine(\n",
    "    base_url=os.environ[\"DEEPINFRA_BASE_URL\"],\n",
    "    api_keys=api_keys,\n",
    "    model=\"meta-llama/Meta-Llama-3.1-70B-Instruct\",\n",
    "    temperature=0.0,\n",
    ")\n",
    "llama31_70b_b = OpenAICompliantLLMEngine(\n",
    "    base_url=os.environ[\"DEEPINFRA_BASE_URL\"],\n",
    "    api_keys=api_keys,\n",
    "    model=\"meta-llama/Meta-Llama-3.1-70B-Instruct\",\n",
    ")\n",
    "llama31_70b_eval_b = OpenAICompliantLLMEngine(\n",
    "    base_url=os.environ[\"DEEPINFRA_BASE_URL\"],\n",
    "    api_keys=api_keys,\n",
    "    model=\"meta-llama/Meta-Llama-3.1-70B-Instruct\",\n",
    "    temperature=0.0,\n",
    ")"
   ]
  },
  {
   "cell_type": "code",
   "execution_count": 11,
   "metadata": {},
   "outputs": [],
   "source": [
    "se_system = \"\"\"You are an expert system at evaluating created summaries on the dimensions of coherence, consistency, fluency, and relevance.\"\"\"\n",
    "\n",
    "se_instructions = \"\"\"\n",
    "You will evaluate the quality of a given summary, with respect to a reference on four dimensions.\n",
    "\n",
    "Output your evaluation as a JSON object like this:\n",
    "{\n",
    "    \"coherence: <float between 1 and 5>\",\n",
    "    \"consistency: <float between 1 and 5>\",\n",
    "    \"fluency: <float between 1 and 5>\",\n",
    "    \"relevance: <float between 1 and 5>\"\n",
    "}\n",
    "\n",
    "Before you output the JSON dict, lay out your reasoning step by step.\n",
    "\"\"\"\n",
    "\n",
    "rb_system = \"You are a fair judge assistant tasked with providing clear, objective feedback based on specific criteria, ensuring each assessment reflects the absolute standards set for performance.\"\n",
    "\n",
    "rb_prompt_v2 = (\n",
    "    \"Please act as an impartial judge and evaluate the quality of the responses provided by two AI assistants to the user question displayed below. \"\n",
    "    \"You should choose the assistant that follows the user's instructions and answers the user's question better. Your evaluation should consider \"\n",
    "    \"factors such as the helpfulness, relevance, accuracy, depth, creativity, and level of detail of their responses. Begin your evaluation by \"\n",
    "    \"comparing the two responses and provide a short explanation. Avoid any position biases and ensure that the order in which the responses were \"\n",
    "    \"presented does not influence your decision. Do not allow the length of the responses to influence your evaluation. Do not favor certain names \"\n",
    "    \"of the assistants. Be as objective as possible. After providing your explanation, output your final verdict by strictly following this format: \"\n",
    "    '\"[[A]]\" if assistant A is better, \"[[B]]\" if assistant B is better.'  # removed tie option as , and \\\"[[C]]\\ \" for a tie\n",
    ")"
   ]
  },
  {
   "cell_type": "code",
   "execution_count": 12,
   "metadata": {},
   "outputs": [],
   "source": [
    "prompt_set_se = [Prompt(prompt=se_instructions)]\n",
    "\n",
    "prompt_set_rb = [Prompt(prompt=rb_prompt_v2)]"
   ]
  },
  {
   "cell_type": "code",
   "execution_count": 13,
   "metadata": {},
   "outputs": [],
   "source": [
    "logger = logging.getLogger()\n",
    "logger.setLevel(logging.WARNING)"
   ]
  },
  {
   "cell_type": "markdown",
   "metadata": {},
   "source": [
    "### Trainset evaluators"
   ]
  },
  {
   "cell_type": "code",
   "execution_count": 14,
   "metadata": {},
   "outputs": [],
   "source": [
    "k = 20\n",
    "\n",
    "conf = DictSimilarityEvaluator2Config(\n",
    "    testset=se_train[:k],\n",
    "    llm=llama31_70b_eval,\n",
    "    validation=False,\n",
    "    system_prompt=se_system,\n",
    "    instruction_execution_prompt=\"{input}\\n\\n{instruction}\",\n",
    ")\n",
    "se_metric = DictSimilarityEvaluator2(conf)\n",
    "\n",
    "conf = ExactMatchEvaluatorConfig(\n",
    "    testset=rb_train[:k],\n",
    "    llm=llama31_70b_eval_b,\n",
    "    validation=False,\n",
    "    output_extraction_regex=r\"\\[\\[.*\\]\\]\",\n",
    "    system_prompt=rb_system,\n",
    "    instruction_execution_prompt=\"{instruction}\\n\\n{input}\",\n",
    ")\n",
    "rb_metric = ExactMatchEvaluator(conf)\n",
    "\n",
    "conf = DictSimilarityEvaluator2Config(\n",
    "    testset=se_test,\n",
    "    llm=llama31_70b_eval,\n",
    "    validation=True,\n",
    "    system_prompt=se_system,\n",
    "    instruction_execution_prompt=\"{input}\\n\\n{instruction}\",\n",
    ")\n",
    "se_val = DictSimilarityEvaluator2(conf)\n",
    "\n",
    "conf = ExactMatchEvaluatorConfig(\n",
    "    testset=rb_test,\n",
    "    llm=llama31_70b_eval_b,\n",
    "    validation=True,\n",
    "    output_extraction_regex=r\"\\[\\[.*\\]\\]\",\n",
    "    system_prompt=rb_system,\n",
    "    instruction_execution_prompt=\"{instruction}\\n\\n{input}\",\n",
    ")\n",
    "rb_val = ExactMatchEvaluator(conf)"
   ]
  },
  {
   "cell_type": "markdown",
   "metadata": {},
   "source": [
    "### Optimizer"
   ]
  },
  {
   "cell_type": "code",
   "execution_count": 15,
   "metadata": {},
   "outputs": [],
   "source": [
    "def best_non_val(prompt_set):\n",
    "    return sorted(\n",
    "        [p for p in prompt_set if p.mean_validation_score is None],\n",
    "        key=lambda p: p.mean_score,\n",
    "        reverse=True,\n",
    "    )[0]"
   ]
  },
  {
   "cell_type": "code",
   "execution_count": 10,
   "metadata": {},
   "outputs": [
    {
     "name": "stderr",
     "output_type": "stream",
     "text": [
      "Eval on prompt: Please act as an impartial jud...: 100%|██████████| 20/20 [00:17<00:00,  1.13it/s]\n"
     ]
    }
   ],
   "source": [
    "n = 20\n",
    "val_steps = [5, 10]\n",
    "\n",
    "mutator_se = Mutation(llama31_70b)\n",
    "mutator_rb = Mutation(llama31_70b_b)\n",
    "\n",
    "validation_tasks = []\n",
    "for step in tqdm(range(n)):\n",
    "    # trainset eval\n",
    "    await asyncio.gather(se_metric(prompt_set_se), rb_metric(prompt_set_rb))\n",
    "\n",
    "    # mutation\n",
    "    best_se = sorted(prompt_set_se, key=lambda x: x.mean_score, reverse=True)[0]\n",
    "    best_rb = sorted(prompt_set_rb, key=lambda x: x.mean_score, reverse=True)[0]\n",
    "\n",
    "    # validation\n",
    "    if step in val_steps:\n",
    "        await asyncio.gather(\n",
    "            se_val([best_non_val(prompt_set_se)]), rb_val([best_non_val(prompt_set_rb)])\n",
    "        )\n",
    "\n",
    "    new_prompts = await asyncio.gather(mutator_se([best_se]), mutator_rb([best_rb]))\n",
    "\n",
    "    prompt_set_se = prompt_set_union(prompt_set_se, new_prompts[0])\n",
    "    prompt_set_rb = prompt_set_union(prompt_set_rb, new_prompts[1])\n",
    "\n",
    "await asyncio.gather(se_metric(prompt_set_se), rb_metric(prompt_set_rb))\n",
    "\n",
    "await asyncio.gather(\n",
    "    se_val([best_non_val(prompt_set_se)]), rb_val([best_non_val(prompt_set_rb)])\n",
    ")"
   ]
  },
  {
   "cell_type": "code",
   "execution_count": 11,
   "metadata": {},
   "outputs": [
    {
     "data": {
      "text/plain": [
       "[Prompt(prompt='\\nYou will evaluate the quality of a given summary, with respect to a  [...] asoning step by step.\\n' (len=393), mean_score=0.4244, mean_validation_score=None, zero_score_cases=False),\n",
       " Prompt(prompt='Assess the summary's quality in relation to the provided reference acr [...] r ratings step by step.' (len=416), mean_score=0.3955, mean_validation_score=None, zero_score_cases=False),\n",
       " Prompt(prompt='Assess the quality of a provided summary in relation to a reference te [...]  a step-by-step manner.' (len=477), mean_score=0.4057, mean_validation_score=None, zero_score_cases=False),\n",
       " Prompt(prompt='Assess the quality of a provided summary in relation to a reference te [...] in the range of 1 to 5.' (len=586), mean_score=0.4826, mean_validation_score=0.4909, zero_score_cases=False),\n",
       " Prompt(prompt='Evaluate the effectiveness of a given summary in comparison to its sou [...] in the range of 1 to 5.' (len=620), mean_score=0.4245, mean_validation_score=None, zero_score_cases=False),\n",
       " Prompt(prompt='Evaluate the effectiveness of a given summary in comparison to its ori [...] he specified 1-5 range.' (len=611), mean_score=0.3816, mean_validation_score=None, zero_score_cases=False),\n",
       " Prompt(prompt='Evaluate the effectiveness of a given summary in capturing the essence [...] erical range of 1 to 5.' (len=600), mean_score=0.3650, mean_validation_score=None, zero_score_cases=False),\n",
       " Prompt(prompt='Evaluate the effectiveness of a given summary in comparison to its ori [...] gnated range of 1 to 5.' (len=588), mean_score=0.3854, mean_validation_score=None, zero_score_cases=False),\n",
       " Prompt(prompt='Evaluate the effectiveness of a given summary in capturing the essence [...] ithin the 1 to 5 range.' (len=657), mean_score=0.3959, mean_validation_score=None, zero_score_cases=False),\n",
       " Prompt(prompt='Evaluate the effectiveness of a given summary in comparison to its ori [...] gnated range of 1 to 5.' (len=647), mean_score=0.4675, mean_validation_score=0.5240, zero_score_cases=False),\n",
       " Prompt(prompt='Evaluate the effectiveness of a given summary in capturing the essence [...] cified range of 1 to 5.' (len=672), mean_score=0.4217, mean_validation_score=None, zero_score_cases=False),\n",
       " Prompt(prompt='Evaluate the effectiveness of a given summary in capturing the essence [...] cified range of 1 to 5.' (len=606), mean_score=0.3749, mean_validation_score=None, zero_score_cases=False),\n",
       " Prompt(prompt='Evaluate the effectiveness of a given summary in capturing the essence [...] gnated range of 1 to 5.' (len=577), mean_score=0.3662, mean_validation_score=None, zero_score_cases=False),\n",
       " Prompt(prompt='Evaluate the effectiveness of a given summary in capturing the essence [...] gnated range of 1 to 5.' (len=610), mean_score=0.3930, mean_validation_score=None, zero_score_cases=False),\n",
       " Prompt(prompt='Evaluate the effectiveness of a given summary in capturing the essence [...] d within the 1-5 range.' (len=582), mean_score=0.3720, mean_validation_score=None, zero_score_cases=False),\n",
       " Prompt(prompt='Evaluate the effectiveness of a given summary in capturing the essence [...] d within the 1-5 range.' (len=710), mean_score=0.4033, mean_validation_score=None, zero_score_cases=False),\n",
       " Prompt(prompt='Evaluate the effectiveness of a given summary in capturing the essence [...] gnated range of 1 to 5.' (len=626), mean_score=0.3983, mean_validation_score=None, zero_score_cases=False),\n",
       " Prompt(prompt='Evaluate the effectiveness of a given summary in capturing the essence [...] d within the 1-5 range.' (len=614), mean_score=0.4103, mean_validation_score=None, zero_score_cases=False),\n",
       " Prompt(prompt='Evaluate the effectiveness of a given summary in comparison to a refer [...]  to the reference text.' (len=745), mean_score=0.4217, mean_validation_score=None, zero_score_cases=False),\n",
       " Prompt(prompt='Evaluate the effectiveness of a given summary in comparison to its cor [...] gnated range of 1 to 5.' (len=649), mean_score=0.4277, mean_validation_score=0.5142, zero_score_cases=False),\n",
       " Prompt(prompt='Evaluate the effectiveness of a given summary in comparison to its ori [...] esignated 1 to 5 range.' (len=626), mean_score=0.4002, mean_validation_score=None, zero_score_cases=False)]"
      ]
     },
     "execution_count": 11,
     "metadata": {},
     "output_type": "execute_result"
    }
   ],
   "source": [
    "prompt_set_se"
   ]
  },
  {
   "cell_type": "code",
   "execution_count": 12,
   "metadata": {},
   "outputs": [
    {
     "data": {
      "text/plain": [
       "[Prompt(prompt='Please act as an impartial judge and evaluate the quality of the respo [...]  assistant B is better.' (len=915), mean_score=0.7000, mean_validation_score=0.7386, zero_score_cases=True),\n",
       " Prompt(prompt='Assume the role of a neutral arbiter and assess the merits of the resp [...] t B is deemed superior.' (len=1015), mean_score=0.4500, mean_validation_score=None, zero_score_cases=True),\n",
       " Prompt(prompt='Assume the role of a neutral arbiter and assess the merits of the resp [...] t B is deemed superior.' (len=1045), mean_score=0.2500, mean_validation_score=None, zero_score_cases=True),\n",
       " Prompt(prompt='Assume the role of a neutral arbiter and assess the merits of the resp [...] ssistant B is superior.' (len=1007), mean_score=0.7000, mean_validation_score=0.6477, zero_score_cases=True),\n",
       " Prompt(prompt='Assume the role of a neutral arbiter and assess the merits of the resp [...] t B is deemed superior.' (len=1033), mean_score=0.5500, mean_validation_score=None, zero_score_cases=True),\n",
       " Prompt(prompt='Assume the role of a neutral arbiter and assess the merits of the resp [...]  if assistant B excels.' (len=966), mean_score=0.5500, mean_validation_score=None, zero_score_cases=True),\n",
       " Prompt(prompt='Assume the role of a neutral arbiter and assess the merits of the resp [...] ssistant B is superior.' (len=938), mean_score=0.6500, mean_validation_score=None, zero_score_cases=True),\n",
       " Prompt(prompt='Assume the role of a neutral evaluator and assess the quality of the r [...] ssistant B is superior.' (len=982), mean_score=0.6500, mean_validation_score=None, zero_score_cases=True),\n",
       " Prompt(prompt='Assume the role of a neutral evaluator and assess the effectiveness of [...] ssistant B is superior.' (len=1011), mean_score=0.6500, mean_validation_score=None, zero_score_cases=True),\n",
       " Prompt(prompt='Assume the role of a neutral arbiter and assess the merits of the resp [...] ssistant B is superior.' (len=877), mean_score=0.6500, mean_validation_score=None, zero_score_cases=True),\n",
       " Prompt(prompt='Assume the role of a neutral arbiter and conduct a thorough assessment [...] ssistant B is superior.' (len=1006), mean_score=0.4000, mean_validation_score=None, zero_score_cases=True),\n",
       " Prompt(prompt='Assume the role of a neutral arbiter and assess the merits of two AI a [...] t B is deemed superior.' (len=1104), mean_score=0.7000, mean_validation_score=0.7784, zero_score_cases=True),\n",
       " Prompt(prompt='Assume the role of a neutral evaluator and assess the merits of the re [...] t B is deemed superior.' (len=1089), mean_score=0.7000, mean_validation_score=None, zero_score_cases=True),\n",
       " Prompt(prompt='Assume the role of a neutral evaluator and assess the merits of two AI [...] t B is deemed superior.' (len=1160), mean_score=0.7000, mean_validation_score=None, zero_score_cases=True),\n",
       " Prompt(prompt='Assume the role of a neutral arbiter and assess the merits of the resp [...] t B is deemed superior.' (len=1029), mean_score=0.7000, mean_validation_score=None, zero_score_cases=True),\n",
       " Prompt(prompt='Assume the role of a neutral arbiter and assess the merits of the resp [...] ssistant B is superior.' (len=951), mean_score=0.4000, mean_validation_score=None, zero_score_cases=True),\n",
       " Prompt(prompt='Assume the role of a neutral arbiter and assess the merits of two AI a [...] ssistant B is superior.' (len=1085), mean_score=0.6500, mean_validation_score=None, zero_score_cases=True),\n",
       " Prompt(prompt='Assume the role of a neutral arbiter and assess the merits of two AI a [...] ssistant B is superior.' (len=871), mean_score=0.7000, mean_validation_score=None, zero_score_cases=True),\n",
       " Prompt(prompt='Assume the role of a neutral evaluator and assess the effectiveness of [...] t B is deemed superior.' (len=1025), mean_score=0.3000, mean_validation_score=None, zero_score_cases=True),\n",
       " Prompt(prompt='Assume the role of a neutral arbiter and assess the merits of the resp [...] ssistant B is superior.' (len=1024), mean_score=0.6500, mean_validation_score=None, zero_score_cases=True),\n",
       " Prompt(prompt='Assume the role of a neutral evaluator and assess the effectiveness of [...] t B is deemed superior.' (len=1084), mean_score=0.6000, mean_validation_score=None, zero_score_cases=True)]"
      ]
     },
     "execution_count": 12,
     "metadata": {},
     "output_type": "execute_result"
    }
   ],
   "source": [
    "prompt_set_rb"
   ]
  },
  {
   "cell_type": "code",
   "execution_count": 13,
   "metadata": {},
   "outputs": [],
   "source": [
    "from prompt_optimization.utils.plot import plot_optimization_trajectories"
   ]
  },
  {
   "cell_type": "code",
   "execution_count": 14,
   "metadata": {},
   "outputs": [
    {
     "data": {
      "image/png": "[encoded data removed]",
      "text/plain": [
       "<Figure size 800x200 with 1 Axes>"
      ]
     },
     "metadata": {},
     "output_type": "display_data"
    }
   ],
   "source": [
    "fig, ax = plot_optimization_trajectories(\n",
    "    prompt_set_se, figsize=(8, 2), n_top_prompt_display=2\n",
    ")"
   ]
  },
  {
   "cell_type": "code",
   "execution_count": 15,
   "metadata": {},
   "outputs": [],
   "source": [
    "fig.savefig(\"f1.png\", bbox_inches=\"tight\", dpi=300)"
   ]
  },
  {
   "cell_type": "code",
   "execution_count": 16,
   "metadata": {},
   "outputs": [
    {
     "data": {
      "text/plain": [
       "(0.9092991686634139, 0.9743068763119351)"
      ]
     },
     "execution_count": 16,
     "metadata": {},
     "output_type": "execute_result"
    }
   ],
   "source": [
    "import numpy as np\n",
    "from prompt_optimization.utils.prompt import (\n",
    "    add_embedding_space_representations,\n",
    ")\n",
    "\n",
    "await add_embedding_space_representations(\n",
    "    prompt_set_se, os.environ[\"PERSONAL_OPENAI_KEY\"]\n",
    ")\n",
    "await add_embedding_space_representations(\n",
    "    prompt_set_rb, os.environ[\"PERSONAL_OPENAI_KEY\"]\n",
    ")\n",
    "\n",
    "embeddings_se = np.array([p.embedding for p in prompt_set_se])\n",
    "embeddings_rb = np.array([p.embedding for p in prompt_set_rb])\n",
    "\n",
    "\n",
    "def average_pairwise_cosine_similarity(embeddings):\n",
    "    # Normalize the vectors\n",
    "    normalized_embeddings = embeddings / np.linalg.norm(\n",
    "        embeddings, axis=1, keepdims=True\n",
    "    )\n",
    "\n",
    "    # Compute the dot product\n",
    "    similarity_matrix = np.dot(normalized_embeddings, normalized_embeddings.T)\n",
    "\n",
    "    # Get the upper triangle of the similarity matrix\n",
    "    upper_tri = np.triu(similarity_matrix, k=1)\n",
    "\n",
    "    # Calculate the average\n",
    "    n = embeddings.shape[0]\n",
    "    average_similarity = np.sum(upper_tri) / (n * (n - 1) / 2)\n",
    "\n",
    "    return average_similarity\n",
    "\n",
    "\n",
    "(\n",
    "    average_pairwise_cosine_similarity(embeddings_se),\n",
    "    average_pairwise_cosine_similarity(embeddings_rb),\n",
    ")"
   ]
  },
  {
   "cell_type": "code",
   "execution_count": 18,
   "metadata": {},
   "outputs": [
    {
     "data": {
      "text/plain": [
       "(263.1380952380952, 303.1)"
      ]
     },
     "execution_count": 18,
     "metadata": {},
     "output_type": "execute_result"
    }
   ],
   "source": [
    "from Levenshtein import distance\n",
    "\n",
    "\n",
    "def average_pairwise_levenshtein_distance(strings):\n",
    "    \"\"\"Compute the average pairwise Levenshtein distance for a list of strings.\"\"\"\n",
    "    if not strings:\n",
    "        return 0\n",
    "\n",
    "    n = len(strings)\n",
    "    total_distance = 0\n",
    "    pair_count = 0\n",
    "\n",
    "    for i in range(n):\n",
    "        for j in range(i + 1, n):\n",
    "            total_distance += distance(strings[i], strings[j])\n",
    "            pair_count += 1\n",
    "\n",
    "    if pair_count == 0:\n",
    "        return 0\n",
    "\n",
    "    return total_distance / pair_count\n",
    "\n",
    "\n",
    "(\n",
    "    average_pairwise_levenshtein_distance([p.prompt for p in prompt_set_se]),\n",
    "    average_pairwise_levenshtein_distance([p.prompt for p in prompt_set_rb]),\n",
    ")"
   ]
  }
 ],
 "metadata": {
  "kernelspec": {
   "display_name": "karma",
   "language": "python",
   "name": "python3"
  },
  "language_info": {
   "codemirror_mode": {
    "name": "ipython",
    "version": 3
   },
   "file_extension": ".py",
   "mimetype": "text/x-python",
   "name": "python",
   "nbconvert_exporter": "python",
   "pygments_lexer": "ipython3",
   "version": "3.11.9"
  }
 },
 "nbformat": 4,
 "nbformat_minor": 2
}
