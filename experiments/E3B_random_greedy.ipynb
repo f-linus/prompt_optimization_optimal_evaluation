{
 "cells": [
  {
   "cell_type": "code",
   "execution_count": 2,
   "metadata": {},
   "outputs": [],
   "source": [
    "import logging\n",
    "import random\n",
    "from tqdm import tqdm\n",
    "import os\n",
    "import asyncio\n",
    "from dotenv import load_dotenv\n",
    "\n",
    "if \"dir_changed\" not in locals():\n",
    "    os.chdir(\"..\")\n",
    "    loaded = load_dotenv(override=True)\n",
    "    dir_changed = True"
   ]
  },
  {
   "cell_type": "code",
   "execution_count": 3,
   "metadata": {},
   "outputs": [
    {
     "name": "stderr",
     "output_type": "stream",
     "text": [
      "/Users/linus/Repos/prompt_optimization_optimal_evaluation/.venv/lib/python3.11/site-packages/tqdm/auto.py:21: TqdmWarning: IProgress not found. Please update jupyter and ipywidgets. See https://ipywidgets.readthedocs.io/en/stable/user_install.html\n",
      "  from .autonotebook import tqdm as notebook_tqdm\n"
     ]
    }
   ],
   "source": [
    "from prompt_optimization.operators.mutation import Mutation\n",
    "from prompt_optimization.utils.data import load_summeval_jsonl\n",
    "from prompt_optimization.prompt_eval.exact_match_evaluator import (\n",
    "    ExactMatchEvaluatorConfig,\n",
    "    ExactMatchEvaluator,\n",
    ")\n",
    "from prompt_optimization.utils.prompt import prompt_set_union\n",
    "\n",
    "from prompt_optimization.types.prompt import Prompt\n",
    "from prompt_optimization.utils.data import (\n",
    "    load_rewardbench_references,\n",
    "    CHAT_SUBSETS,\n",
    "    CHAT_HARD_SUBSETS,\n",
    "    SAFETY_SUBSETS,\n",
    "    REASONING_SUBSETS,\n",
    ")\n",
    "from prompt_optimization.prompt_eval.dict_similarity_evaluator2 import (\n",
    "    DictSimilarityEvaluator2,\n",
    "    DictSimilarityEvaluator2Config,\n",
    ")\n",
    "from prompt_optimization.llm.open_ai_compliant_llm_engine import (\n",
    "    OpenAICompliantLLMEngine,\n",
    ")"
   ]
  },
  {
   "cell_type": "code",
   "execution_count": 4,
   "metadata": {},
   "outputs": [],
   "source": [
    "references = load_summeval_jsonl(\"data/summeval.jsonl\")\n",
    "\n",
    "random.seed(123)\n",
    "references_shuffled = random.sample(references, len(references))\n",
    "\n",
    "se_train = references_shuffled[:25]\n",
    "se_test = references_shuffled[50:150]"
   ]
  },
  {
   "cell_type": "code",
   "execution_count": 3,
   "metadata": {},
   "outputs": [],
   "source": [
    "training_examples_per_subset = 1\n",
    "validations_per_subset = 8\n",
    "\n",
    "subsets_map = {\n",
    "    \"chat\": CHAT_SUBSETS,\n",
    "    \"chat_hard\": CHAT_HARD_SUBSETS,\n",
    "    \"safety\": SAFETY_SUBSETS,\n",
    "    \"reasoning\": REASONING_SUBSETS,\n",
    "}\n",
    "\n",
    "subsets_all = [subset for subsets in subsets_map.values() for subset in subsets]\n",
    "\n",
    "subset_data = {subset: load_rewardbench_references([subset]) for subset in subsets_all}\n",
    "\n",
    "rb_train = []\n",
    "for subset in subsets_all:\n",
    "    rb_train.extend(subset_data[subset][:training_examples_per_subset])\n",
    "\n",
    "rb_test = []\n",
    "for category, subsets in subsets_map.items():\n",
    "    for subset in subsets:\n",
    "        rb_test.extend(\n",
    "            subset_data[subset][\n",
    "                training_examples_per_subset : training_examples_per_subset\n",
    "                + validations_per_subset\n",
    "            ]\n",
    "        )\n",
    "\n",
    "# shuffle rb_train\n",
    "random.seed(123)\n",
    "rb_train = random.sample(rb_train, len(rb_train))"
   ]
  },
  {
   "cell_type": "code",
   "execution_count": 4,
   "metadata": {},
   "outputs": [],
   "source": [
    "llama31_70b = OpenAICompliantLLMEngine(\n",
    "    base_url=os.environ[\"DEEPINFRA_BASE_URL\"],\n",
    "    api_keys=os.environ[\"DEEPINFRA_API_KEY_A3\"],\n",
    "    model=\"meta-llama/Meta-Llama-3.1-70B-Instruct\",\n",
    ")\n",
    "llama31_70b_eval = OpenAICompliantLLMEngine(\n",
    "    base_url=os.environ[\"DEEPINFRA_BASE_URL\"],\n",
    "    api_keys=os.environ[\"DEEPINFRA_API_KEY_A4\"],\n",
    "    model=\"meta-llama/Meta-Llama-3.1-70B-Instruct\",\n",
    "    temperature=0.0,\n",
    ")\n",
    "llama31_70b_b = OpenAICompliantLLMEngine(\n",
    "    base_url=os.environ[\"DEEPINFRA_BASE_URL\"],\n",
    "    api_keys=os.environ[\"DEEPINFRA_API_KEY_A1\"],\n",
    "    model=\"meta-llama/Meta-Llama-3.1-70B-Instruct\",\n",
    ")\n",
    "llama31_70b_eval_b = OpenAICompliantLLMEngine(\n",
    "    base_url=os.environ[\"DEEPINFRA_BASE_URL\"],\n",
    "    api_keys=os.environ[\"DEEPINFRA_API_KEY_A2\"],\n",
    "    model=\"meta-llama/Meta-Llama-3.1-70B-Instruct\",\n",
    "    temperature=0.0,\n",
    ")"
   ]
  },
  {
   "cell_type": "code",
   "execution_count": 5,
   "metadata": {},
   "outputs": [],
   "source": [
    "meta_prompt = \"\"\"{rnd}\n",
    "Generate a variation of the following prompt:\n",
    "\n",
    "<PROMPT>\n",
    "{prompt}\n",
    "</PROMPT>\n",
    "\n",
    "The generated prompt should be contain all information and instructions of the original prompt, but worded in a different way.\n",
    "Important: only change the original prompt a tiny bit!\n",
    "\n",
    "Provide the new instruction inside <INSTR> tags like this:\n",
    "<INSTR>...</INSTR>\n",
    "\"\"\"\n",
    "\n",
    "se_system = \"\"\"You are an expert system at evaluating created summaries on the dimensions of coherence, consistency, fluency, and relevance.\"\"\"\n",
    "\n",
    "se_instr1 = \"\"\"\n",
    "You will evaluate the quality of a given summary, with respect to a reference on four dimensions.\n",
    "\n",
    "Output your evaluation as a JSON object like this:\n",
    "{\n",
    "    \"coherence: <float between 1 and 5>\",\n",
    "    \"consistency: <float between 1 and 5>\",\n",
    "    \"fluency: <float between 1 and 5>\",\n",
    "    \"relevance: <float between 1 and 5>\"\n",
    "}\n",
    "\n",
    "Before you output the JSON dict, lay out your reasoning step by step.\n",
    "\"\"\"\n",
    "\n",
    "se_instr2 = \"\"\"\n",
    "My friend gave me a summary. Those summaries are usually not very good (honstely). Can you do me a\n",
    "favor and review another one by him? By very fair please. Put down your thinking before you provide\n",
    "the final verdict on 4 dimensions: coherence, consistency, fluency, and relevance.\n",
    "\n",
    "Output your evaluation as a JSON object like this:\n",
    "{\n",
    "    \"coherence: <between 1 and 5>\",\n",
    "    \"consistency: <between 1 and 5>\",\n",
    "    \"fluency: <between 1 and 5>\",\n",
    "    \"relevance: <between 1 and 5>\"\n",
    "}\n",
    "\"\"\"\n",
    "\n",
    "rb_system = \"You are a fair judge assistant tasked with providing clear, objective feedback based on specific criteria, ensuring each assessment reflects the absolute standards set for performance.\"\n",
    "\n",
    "rb_prompt_v2 = (\n",
    "    \"Please act as an impartial judge and evaluate the quality of the responses provided by two AI assistants to the user question displayed below. \"\n",
    "    \"You should choose the assistant that follows the user's instructions and answers the user's question better. Your evaluation should consider \"\n",
    "    \"factors such as the helpfulness, relevance, accuracy, depth, creativity, and level of detail of their responses. Begin your evaluation by \"\n",
    "    \"comparing the two responses and provide a short explanation. Avoid any position biases and ensure that the order in which the responses were \"\n",
    "    \"presented does not influence your decision. Do not allow the length of the responses to influence your evaluation. Do not favor certain names \"\n",
    "    \"of the assistants. Be as objective as possible. After providing your explanation, output your final verdict by strictly following this format: \"\n",
    "    '\"[[A]]\" if assistant A is better, \"[[B]]\" if assistant B is better.'  # removed tie option as , and \\\"[[C]]\\ \" for a tie\n",
    ")"
   ]
  },
  {
   "cell_type": "code",
   "execution_count": 6,
   "metadata": {},
   "outputs": [],
   "source": [
    "prompt_set_se = [Prompt(prompt=se_instructions)]\n",
    "\n",
    "prompt_set_rb = [Prompt(prompt=rb_prompt_v2)]"
   ]
  },
  {
   "cell_type": "code",
   "execution_count": 7,
   "metadata": {},
   "outputs": [],
   "source": [
    "logger = logging.getLogger()\n",
    "logger.setLevel(logging.WARNING)"
   ]
  },
  {
   "cell_type": "markdown",
   "metadata": {},
   "source": [
    "### Trainset evaluators"
   ]
  },
  {
   "cell_type": "code",
   "execution_count": 8,
   "metadata": {},
   "outputs": [],
   "source": [
    "k = 5\n",
    "\n",
    "conf = DictSimilarityEvaluator2Config(\n",
    "    testset=se_train[:k],\n",
    "    llm=llama31_70b_eval,\n",
    "    validation=False,\n",
    "    system_prompt=se_system,\n",
    "    instruction_execution_prompt=\"{input}\\n\\n{instruction}\",\n",
    ")\n",
    "se_metric = DictSimilarityEvaluator2(conf)\n",
    "\n",
    "conf = ExactMatchEvaluatorConfig(\n",
    "    testset=rb_train[:k],\n",
    "    llm=llama31_70b_eval_b,\n",
    "    validation=False,\n",
    "    output_extraction_regex=r\"\\[\\[.*\\]\\]\",\n",
    "    system_prompt=rb_system,\n",
    "    instruction_execution_prompt=\"{instruction}\\n\\n{input}\",\n",
    ")\n",
    "rb_metric = ExactMatchEvaluator(conf)\n",
    "\n",
    "conf = DictSimilarityEvaluator2Config(\n",
    "    testset=se_test,\n",
    "    llm=llama31_70b_eval,\n",
    "    validation=True,\n",
    "    system_prompt=se_system,\n",
    "    instruction_execution_prompt=\"{input}\\n\\n{instruction}\",\n",
    ")\n",
    "se_val = DictSimilarityEvaluator2(conf)\n",
    "\n",
    "conf = ExactMatchEvaluatorConfig(\n",
    "    testset=rb_test,\n",
    "    llm=llama31_70b_eval_b,\n",
    "    validation=True,\n",
    "    output_extraction_regex=r\"\\[\\[.*\\]\\]\",\n",
    "    system_prompt=rb_system,\n",
    "    instruction_execution_prompt=\"{instruction}\\n\\n{input}\",\n",
    ")\n",
    "rb_val = ExactMatchEvaluator(conf)"
   ]
  },
  {
   "cell_type": "markdown",
   "metadata": {},
   "source": [
    "### Optimizer"
   ]
  },
  {
   "cell_type": "code",
   "execution_count": 9,
   "metadata": {},
   "outputs": [],
   "source": [
    "def best_non_val(prompt_set):\n",
    "    return sorted(\n",
    "        [p for p in prompt_set if p.mean_validation_score is None],\n",
    "        key=lambda p: p.mean_score,\n",
    "        reverse=True,\n",
    "    )[0]"
   ]
  },
  {
   "cell_type": "code",
   "execution_count": 10,
   "metadata": {},
   "outputs": [
    {
     "name": "stderr",
     "output_type": "stream",
     "text": [
      "Eval on prompt: Please act as an impartial jud...: 100%|██████████| 176/176 [00:00<00:00, 1306.17it/s]\n",
      "Eval on prompt set...: 100%|██████████| 10/10 [00:00<00:00, 967.19it/s]\n",
      "Eval on prompt set...: 100%|██████████| 11/11 [00:00<00:00, 835.90it/s]\n",
      "Eval on prompt: Assume the role of a neutral e...: 100%|██████████| 176/176 [00:00<00:00, 1261.51it/s]\n",
      "Eval on prompt set...: 100%|██████████| 12/12 [00:00<00:00, 1170.42it/s]\n",
      "Eval on prompt set...: 100%|██████████| 13/13 [00:00<00:00, 1195.19it/s]\n",
      "Eval on prompt set...: 100%|██████████| 14/14 [00:00<00:00, 71.30it/s]\n",
      "Eval on prompt set...: 100%|██████████| 15/15 [00:00<00:00, 1357.76it/s]\n",
      "Eval on prompt set...: 100%|██████████| 16/16 [00:00<00:00, 1403.80it/s]\n",
      "Eval on prompt set...: 100%|██████████| 17/17 [00:00<00:00, 1417.61it/s]\n",
      "Eval on prompt set...: 100%|██████████| 18/18 [00:00<00:00, 1414.45it/s]\n",
      "Eval on prompt set...: 100%|██████████| 19/19 [00:00<00:00, 2299.24it/s]\n",
      "Eval on prompt set...: 100%|██████████| 20/20 [00:00<00:00, 1932.73it/s]\n",
      "100%|██████████| 20/20 [00:00<00:00, 25.80it/s]\n",
      "Eval on prompt set...: 100%|██████████| 21/21 [00:00<00:00, 1506.91it/s]\n",
      "Eval on prompt: Assume the role of an unbiased...: 100%|██████████| 176/176 [00:00<00:00, 1131.02it/s]\n"
     ]
    },
    {
     "data": {
      "text/plain": [
       "[[Prompt(prompt='Assess the summary's ability to distill the reference text's core idea [...] <rating from 1 to 5>\\n}' (len=399), mean_score=0.5276, mean_validation_score=0.4881, zero_score_cases=False)],\n",
       " [Prompt(prompt='Assume the role of an unbiased evaluator and assess the quality of the [...] ssistant B is superior.' (len=1004), mean_score=0.8000, mean_validation_score=0.8011, zero_score_cases=True)]]"
      ]
     },
     "execution_count": 10,
     "metadata": {},
     "output_type": "execute_result"
    }
   ],
   "source": [
    "n = 20\n",
    "val_steps = [5, 10]\n",
    "\n",
    "mutator_se = Mutation(llama31_70b, meta_prompt=meta_prompt)\n",
    "mutator_rb = Mutation(llama31_70b_b, meta_prompt=meta_prompt)\n",
    "\n",
    "validation_tasks = []\n",
    "for step in tqdm(range(n)):\n",
    "    # trainset eval\n",
    "    await asyncio.gather(se_metric(prompt_set_se), rb_metric(prompt_set_rb))\n",
    "\n",
    "    # mutation\n",
    "    best_se = sorted(prompt_set_se, key=lambda x: x.mean_score, reverse=True)[0]\n",
    "    best_rb = sorted(prompt_set_rb, key=lambda x: x.mean_score, reverse=True)[0]\n",
    "\n",
    "    # validation\n",
    "    if step in val_steps:\n",
    "        await asyncio.gather(\n",
    "            se_val([best_non_val(prompt_set_se)]), rb_val([best_non_val(prompt_set_rb)])\n",
    "        )\n",
    "\n",
    "    new_prompts = await asyncio.gather(mutator_se([best_se]), mutator_rb([best_rb]))\n",
    "\n",
    "    prompt_set_se = prompt_set_union(prompt_set_se, new_prompts[0])\n",
    "    prompt_set_rb = prompt_set_union(prompt_set_rb, new_prompts[1])\n",
    "\n",
    "await asyncio.gather(se_metric(prompt_set_se), rb_metric(prompt_set_rb))\n",
    "\n",
    "await asyncio.gather(\n",
    "    se_val([best_non_val(prompt_set_se)]), rb_val([best_non_val(prompt_set_rb)])\n",
    ")"
   ]
  },
  {
   "cell_type": "code",
   "execution_count": 11,
   "metadata": {},
   "outputs": [
    {
     "data": {
      "text/plain": [
       "[Prompt(prompt='\\nYou will evaluate the quality of a given summary, with respect to a  [...] asoning step by step.\\n' (len=393), mean_score=0.4482, mean_validation_score=0.4819, zero_score_cases=False),\n",
       " Prompt(prompt='You will be assessing the quality of a provided summary in relation to [...] ngs for each dimension.' (len=472), mean_score=0.4394, mean_validation_score=None, zero_score_cases=False),\n",
       " Prompt(prompt='Assess the quality of a provided summary in relation to a reference te [...] he specified structure.' (len=457), mean_score=0.4273, mean_validation_score=None, zero_score_cases=False),\n",
       " Prompt(prompt='You will be assessing the quality of a provided summary in relation to [...] behind your evaluation.' (len=529), mean_score=0.3140, mean_validation_score=None, zero_score_cases=False),\n",
       " Prompt(prompt='Assess the quality of a provided summary in relation to a reference te [...] at between 1 and 5>\"\\n}' (len=395), mean_score=0.4319, mean_validation_score=None, zero_score_cases=False),\n",
       " Prompt(prompt='You will be assessing the quality of a provided summary in relation to [...] ach score step by step.' (len=464), mean_score=0.3362, mean_validation_score=None, zero_score_cases=False),\n",
       " Prompt(prompt='You will be assessing the quality of a provided summary in relation to [...] reasoning step by step.' (len=467), mean_score=0.4002, mean_validation_score=None, zero_score_cases=False),\n",
       " Prompt(prompt='Assess the quality of a provided summary in relation to a reference te [...] oat between 1 and 5>\\n}' (len=432), mean_score=0.4476, mean_validation_score=None, zero_score_cases=False),\n",
       " Prompt(prompt='Assess the quality of a provided summary in relation to a reference te [...] <rating from 1 to 5>\\n}' (len=379), mean_score=0.4627, mean_validation_score=0.4881, zero_score_cases=False),\n",
       " Prompt(prompt='Evaluate the provided summary in comparison to the reference text, foc [...] <rating from 1 to 5>\\n}' (len=389), mean_score=0.3797, mean_validation_score=None, zero_score_cases=False),\n",
       " Prompt(prompt='Evaluate the effectiveness of a given summary in comparison to a refer [...] <rating from 1 to 5>\\n}' (len=407), mean_score=0.3524, mean_validation_score=None, zero_score_cases=False),\n",
       " Prompt(prompt='Evaluate the effectiveness of a given summary in comparison to a refer [...] <rating from 1 to 5>\\n}' (len=405), mean_score=0.3524, mean_validation_score=None, zero_score_cases=False),\n",
       " Prompt(prompt='Evaluate the effectiveness of a given summary in comparison to a refer [...] <rating from 1 to 5>\\n}' (len=386), mean_score=0.4180, mean_validation_score=None, zero_score_cases=False),\n",
       " Prompt(prompt='Evaluate the provided summary's effectiveness in capturing the essence [...] <rating from 1 to 5>\\n}' (len=415), mean_score=0.3808, mean_validation_score=None, zero_score_cases=False),\n",
       " Prompt(prompt='Evaluate the effectiveness of a given summary in relation to its origi [...] <rating from 1 to 5>\\n}' (len=385), mean_score=0.4249, mean_validation_score=None, zero_score_cases=False),\n",
       " Prompt(prompt='Evaluate the provided summary's effectiveness in capturing the essence [...] <rating from 1 to 5>\\n}' (len=427), mean_score=0.4997, mean_validation_score=None, zero_score_cases=False),\n",
       " Prompt(prompt='Assess the summary's ability to distill the reference text's core idea [...] <rating from 1 to 5>\\n}' (len=399), mean_score=0.5276, mean_validation_score=0.4881, zero_score_cases=False),\n",
       " Prompt(prompt='Evaluate the summary's effectiveness in capturing the essence of the r [...] <rating from 1 to 5>\\n}' (len=416), mean_score=0.4472, mean_validation_score=None, zero_score_cases=False),\n",
       " Prompt(prompt='Evaluate the summary's effectiveness in capturing the reference text's [...] <rating from 1 to 5>\\n}' (len=422), mean_score=0.4418, mean_validation_score=None, zero_score_cases=False)]"
      ]
     },
     "execution_count": 11,
     "metadata": {},
     "output_type": "execute_result"
    }
   ],
   "source": [
    "prompt_set_se"
   ]
  },
  {
   "cell_type": "code",
   "execution_count": 12,
   "metadata": {},
   "outputs": [
    {
     "data": {
      "text/plain": [
       "[Prompt(prompt='Please act as an impartial judge and evaluate the quality of the respo [...]  assistant B is better.' (len=915), mean_score=0.8000, mean_validation_score=0.7386, zero_score_cases=True),\n",
       " Prompt(prompt='Assume the role of a neutral evaluator and assess the quality of the r [...] ssistant B is superior.' (len=1006), mean_score=0.8000, mean_validation_score=0.7727, zero_score_cases=True),\n",
       " Prompt(prompt='Assume the role of an unbiased evaluator and assess the quality of the [...] ssistant B is superior.' (len=1004), mean_score=0.8000, mean_validation_score=0.8011, zero_score_cases=True),\n",
       " Prompt(prompt='Assume the role of an unbiased evaluator and assess the quality of the [...] ssistant B is superior.' (len=968), mean_score=0.8000, mean_validation_score=None, zero_score_cases=True),\n",
       " Prompt(prompt='Assume the role of an unbiased evaluator and assess the quality of the [...] ssistant B is superior.' (len=1032), mean_score=0.8000, mean_validation_score=None, zero_score_cases=True),\n",
       " Prompt(prompt='Assume the role of an unbiased arbiter and assess the quality of the r [...] ssistant B is superior.' (len=964), mean_score=0.8000, mean_validation_score=None, zero_score_cases=True),\n",
       " Prompt(prompt='Assume the role of a neutral arbiter and assess the quality of the res [...] ssistant B is superior.' (len=971), mean_score=0.8000, mean_validation_score=None, zero_score_cases=True),\n",
       " Prompt(prompt='Assume the role of a neutral evaluator and assess the quality of the r [...] ssistant B is superior.' (len=867), mean_score=0.2000, mean_validation_score=None, zero_score_cases=True),\n",
       " Prompt(prompt='Assume the role of an unbiased evaluator and assess the quality of the [...] ssistant B is superior.' (len=1005), mean_score=0.8000, mean_validation_score=None, zero_score_cases=True),\n",
       " Prompt(prompt='Assume the role of a neutral evaluator and assess the quality of the r [...] ssistant B is superior.' (len=1000), mean_score=0.8000, mean_validation_score=None, zero_score_cases=True),\n",
       " Prompt(prompt='Assume the role of a neutral evaluator and assess the merits of the re [...] ant B is deemed better.' (len=913), mean_score=0.8000, mean_validation_score=None, zero_score_cases=True),\n",
       " Prompt(prompt='Assume the role of an unbiased evaluator and assess the quality of the [...] ssistant B is superior.' (len=935), mean_score=0.8000, mean_validation_score=None, zero_score_cases=True),\n",
       " Prompt(prompt='Assume the role of a neutral arbiter and assess the quality of the res [...] ssistant B is superior.' (len=1037), mean_score=0.8000, mean_validation_score=None, zero_score_cases=True),\n",
       " Prompt(prompt='Assume the role of a neutral evaluator and assess the quality of the r [...] ssistant B is superior.' (len=1005), mean_score=0.2000, mean_validation_score=None, zero_score_cases=True),\n",
       " Prompt(prompt='Assume the role of an unbiased arbiter and assess the quality of the r [...] ssistant B is superior.' (len=977), mean_score=0.8000, mean_validation_score=None, zero_score_cases=True),\n",
       " Prompt(prompt='Assume the role of a neutral evaluator and assess the quality of the r [...] ssistant B is superior.' (len=910), mean_score=0.8000, mean_validation_score=None, zero_score_cases=True),\n",
       " Prompt(prompt='Assume the role of a neutral evaluator and assess the quality of the r [...] ssistant B is superior.' (len=942), mean_score=0.8000, mean_validation_score=None, zero_score_cases=True),\n",
       " Prompt(prompt='Assume the role of an unbiased evaluator and assess the quality of the [...] ssistant B is superior.' (len=985), mean_score=0.8000, mean_validation_score=None, zero_score_cases=True),\n",
       " Prompt(prompt='Assume the role of an unbiased evaluator and assess the merits of the  [...] ssistant B is superior.' (len=954), mean_score=0.8000, mean_validation_score=None, zero_score_cases=True),\n",
       " Prompt(prompt='Assume the role of an unbiased arbiter and assess the quality of the r [...] ssistant B is superior.' (len=953), mean_score=0.8000, mean_validation_score=None, zero_score_cases=True),\n",
       " Prompt(prompt='Assume the role of a neutral arbiter and assess the quality of the res [...] ssistant B is superior.' (len=1030), mean_score=0.8000, mean_validation_score=None, zero_score_cases=True)]"
      ]
     },
     "execution_count": 12,
     "metadata": {},
     "output_type": "execute_result"
    }
   ],
   "source": [
    "prompt_set_rb"
   ]
  },
  {
   "cell_type": "code",
   "execution_count": 13,
   "metadata": {},
   "outputs": [
    {
     "data": {
      "text/plain": [
       "(0.9091848552110706, 0.9833243020429444)"
      ]
     },
     "execution_count": 13,
     "metadata": {},
     "output_type": "execute_result"
    }
   ],
   "source": [
    "import numpy as np\n",
    "from prompt_optimization.utils.prompt import add_embedding_space_representations\n",
    "\n",
    "await add_embedding_space_representations(\n",
    "    prompt_set_se, os.environ[\"PERSONAL_OPENAI_KEY\"]\n",
    ")\n",
    "await add_embedding_space_representations(\n",
    "    prompt_set_rb, os.environ[\"PERSONAL_OPENAI_KEY\"]\n",
    ")\n",
    "\n",
    "embeddings_se = np.array([p.embedding for p in prompt_set_se])\n",
    "embeddings_rb = np.array([p.embedding for p in prompt_set_rb])\n",
    "\n",
    "\n",
    "def average_pairwise_cosine_similarity(embeddings):\n",
    "    # Normalize the vectors\n",
    "    normalized_embeddings = embeddings / np.linalg.norm(\n",
    "        embeddings, axis=1, keepdims=True\n",
    "    )\n",
    "\n",
    "    # Compute the dot product\n",
    "    similarity_matrix = np.dot(normalized_embeddings, normalized_embeddings.T)\n",
    "\n",
    "    # Get the upper triangle of the similarity matrix\n",
    "    upper_tri = np.triu(similarity_matrix, k=1)\n",
    "\n",
    "    # Calculate the average\n",
    "    n = embeddings.shape[0]\n",
    "    average_similarity = np.sum(upper_tri) / (n * (n - 1) / 2)\n",
    "\n",
    "    return average_similarity\n",
    "\n",
    "\n",
    "(\n",
    "    average_pairwise_cosine_similarity(embeddings_se),\n",
    "    average_pairwise_cosine_similarity(embeddings_rb),\n",
    ")"
   ]
  },
  {
   "cell_type": "code",
   "execution_count": 14,
   "metadata": {},
   "outputs": [
    {
     "data": {
      "text/plain": [
       "(199.96491228070175, 237.24285714285713)"
      ]
     },
     "execution_count": 14,
     "metadata": {},
     "output_type": "execute_result"
    }
   ],
   "source": [
    "from Levenshtein import distance\n",
    "\n",
    "\n",
    "def average_pairwise_levenshtein_distance(strings):\n",
    "    \"\"\"Compute the average pairwise Levenshtein distance for a list of strings.\"\"\"\n",
    "    if not strings:\n",
    "        return 0\n",
    "\n",
    "    n = len(strings)\n",
    "    total_distance = 0\n",
    "    pair_count = 0\n",
    "\n",
    "    for i in range(n):\n",
    "        for j in range(i + 1, n):\n",
    "            total_distance += distance(strings[i], strings[j])\n",
    "            pair_count += 1\n",
    "\n",
    "    if pair_count == 0:\n",
    "        return 0\n",
    "\n",
    "    return total_distance / pair_count\n",
    "\n",
    "\n",
    "(\n",
    "    average_pairwise_levenshtein_distance([p.prompt for p in prompt_set_se]),\n",
    "    average_pairwise_levenshtein_distance([p.prompt for p in prompt_set_rb]),\n",
    ")"
   ]
  },
  {
   "cell_type": "code",
   "execution_count": 22,
   "metadata": {},
   "outputs": [],
   "source": [
    "cum_perf_incr = [\n",
    "    max(prompt_set_se[: i + 1], key=lambda x: x.mean_score)\n",
    "    for i in range(len(prompt_set_se))\n",
    "]"
   ]
  },
  {
   "cell_type": "code",
   "execution_count": 36,
   "metadata": {},
   "outputs": [
    {
     "data": {
      "text/plain": [
       "Text(0, 0.5, 'Best performance')"
      ]
     },
     "execution_count": 36,
     "metadata": {},
     "output_type": "execute_result"
    },
    {
     "data": {
      "image/png": "[encoded data removed]",
      "text/plain": [
       "<Figure size 600x300 with 1 Axes>"
      ]
     },
     "metadata": {},
     "output_type": "display_data"
    }
   ],
   "source": [
    "from matplotlib import pyplot as plt\n",
    "\n",
    "fig, ax = plt.subplots(figsize=(6, 3))\n",
    "\n",
    "ax.plot([p.mean_score for p in cum_perf_incr], color=\"blue\")\n",
    "\n",
    "# despine\n",
    "ax.spines[\"top\"].set_visible(False)\n",
    "ax.spines[\"right\"].set_visible(False)\n",
    "\n",
    "# grid\n",
    "ax.yaxis.grid(color=\"gray\", linestyle=\"dashed\")\n",
    "ax.xaxis.grid(color=\"gray\", linestyle=\"dashed\")\n",
    "\n",
    "# labels\n",
    "ax.set_xlabel(\"Optimisation step\")\n",
    "ax.set_ylabel(\"Best performance\")"
   ]
  }
 ],
 "metadata": {
  "kernelspec": {
   "display_name": "karma",
   "language": "python",
   "name": "python3"
  },
  "language_info": {
   "codemirror_mode": {
    "name": "ipython",
    "version": 3
   },
   "file_extension": ".py",
   "mimetype": "text/x-python",
   "name": "python",
   "nbconvert_exporter": "python",
   "pygments_lexer": "ipython3",
   "version": "3.11.9"
  }
 },
 "nbformat": 4,
 "nbformat_minor": 2
}
